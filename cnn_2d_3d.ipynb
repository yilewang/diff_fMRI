{
 "cells": [
  {
   "cell_type": "code",
   "execution_count": 1,
   "metadata": {},
   "outputs": [],
   "source": [
    "import numpy as np\n",
    "import nibabel as nib\n",
    "import matplotlib.pyplot as plt\n",
    "import pandas as pd\n",
    "import h5py\n",
    "from os.path import join as pjoin\n",
    "import csv\n",
    "import itertools\n",
    "import argparse\n",
    "import time\n",
    "from tqdm import tqdm\n",
    "import multiprocessing\n",
    "from nilearn import datasets\n",
    "from nilearn import surface"
   ]
  },
  {
   "cell_type": "markdown",
   "metadata": {},
   "source": [
    "### NSD data preprocessing workflow\n",
    "1. load 3d data from hdf5\n",
    "2. frame the visual areas\n",
    "3. start convolution (2d or 3d)"
   ]
  },
  {
   "cell_type": "code",
   "execution_count": 2,
   "metadata": {},
   "outputs": [],
   "source": [
    "subj = 'subj02'\n",
    "pic=11"
   ]
  },
  {
   "cell_type": "code",
   "execution_count": 3,
   "metadata": {},
   "outputs": [],
   "source": [
    "basedir = f'/Volumes/side_project/nsd/{subj}'"
   ]
  },
  {
   "cell_type": "code",
   "execution_count": 4,
   "metadata": {},
   "outputs": [
    {
     "name": "stdout",
     "output_type": "stream",
     "text": [
      "(163842, 1, 1, 750)\n"
     ]
    }
   ],
   "source": [
    "# get the voxel index for each subject\n",
    "fsaverage_betas = nib.load('/Volumes/side_project/nsd/fsaverage/subj01/lh.betas_session01.mgh')\n",
    "print(fsaverage_betas.shape)"
   ]
  },
  {
   "cell_type": "code",
   "execution_count": 5,
   "metadata": {},
   "outputs": [],
   "source": [
    "## get the 3d coordinates of the fsaverage mesh surface\n",
    "fsaverage = datasets.fetch_surf_fsaverage(mesh=\"fsaverage\")\n",
    "left_pial = surface.load_surf_mesh(fsaverage[\"pial_left\"])\n",
    "right_pial = surface.load_surf_mesh(fsaverage[\"pial_right\"]) "
   ]
  },
  {
   "cell_type": "code",
   "execution_count": 6,
   "metadata": {},
   "outputs": [
    {
     "name": "stdout",
     "output_type": "stream",
     "text": [
      "58819.93439013256\n"
     ]
    }
   ],
   "source": [
    "print(sum(surface.load_surf_mesh(fsaverage[\"flat_left\"]).coordinates[:,2]))"
   ]
  },
  {
   "cell_type": "code",
   "execution_count": 7,
   "metadata": {},
   "outputs": [],
   "source": [
    "# import mask\n",
    "roidir = '/Users/yilewang/Downloads/'+subj\n",
    "fmri_dir = pjoin(roidir, 'roi_masks')\n",
    "\n",
    "# load npy file\n",
    "lh_all_data = np.load(pjoin(fmri_dir, 'lh.all-vertices_fsaverage_space.npy'))\n",
    "rh_all_data = np.load(pjoin(fmri_dir, 'rh.all-vertices_fsaverage_space.npy'))"
   ]
  },
  {
   "cell_type": "code",
   "execution_count": 8,
   "metadata": {},
   "outputs": [
    {
     "name": "stdout",
     "output_type": "stream",
     "text": [
      "[[-38.83455   -19.019356   66.90841  ]\n",
      " [-16.554127  -69.25585    60.977936 ]\n",
      " [ -9.5535755  -8.218807   46.25186  ]\n",
      " ...\n",
      " [-34.570942  -24.75986   -26.428991 ]\n",
      " [-34.64751   -24.712444  -25.722996 ]\n",
      " [-35.078686  -24.75963   -25.221867 ]]\n"
     ]
    }
   ],
   "source": [
    "# apply mask to the whole brain voxels\n",
    "\n",
    "# Map the fMRI data onto the brain surface map\n",
    "visual_vertex_left = lh_all_data[np.where(lh_all_data)[0]]\n",
    "visual_vertex_right = rh_all_data[np.where(rh_all_data)[0]]\n",
    "\n",
    "\n",
    "# get the 3d coordinates of the visual cortex\n",
    "visual_left_3d = left_pial.coordinates[np.where(visual_vertex_left)[0]]\n",
    "visual_right_3d = right_pial.coordinates[np.where(visual_vertex_right)[0]]\n",
    "\n",
    "print(left_pial.coordinates)"
   ]
  },
  {
   "cell_type": "code",
   "execution_count": 9,
   "metadata": {},
   "outputs": [
    {
     "name": "stdout",
     "output_type": "stream",
     "text": [
      "(163842, 3)\n"
     ]
    },
    {
     "ename": "",
     "evalue": "",
     "output_type": "error",
     "traceback": [
      "\u001b[1;31mThe Kernel crashed while executing code in the the current cell or a previous cell. Please review the code in the cell(s) to identify a possible cause of the failure. Click <a href='https://aka.ms/vscodeJupyterKernelCrash'>here</a> for more info. View Jupyter <a href='command:jupyter.viewOutput'>log</a> for further details."
     ]
    }
   ],
   "source": [
    "from sklearn import datasets, manifold\n",
    "import matplotlib.pyplot as plt\n",
    "from matplotlib import ticker\n",
    "import mpl_toolkits.mplot3d \n",
    "n_samples = 1500\n",
    "S_points, S_color = datasets.make_s_curve(len(left_pial.coordinates), random_state=0)\n",
    "print(S_points.shape)\n",
    "def add_2d_scatter(ax, points, points_color, title=None):\n",
    "    x, y = points.T\n",
    "    ax.scatter(x, y, c=points_color, s=50, alpha=0.8)\n",
    "    ax.set_title(title)\n",
    "    ax.xaxis.set_major_formatter(ticker.NullFormatter())\n",
    "    ax.yaxis.set_major_formatter(ticker.NullFormatter())\n",
    "\n",
    "def plot_2d(points, points_color, title):\n",
    "    fig, ax = plt.subplots(figsize=(3, 3), facecolor=\"white\", constrained_layout=True)\n",
    "    fig.suptitle(title, size=16)\n",
    "    add_2d_scatter(ax, points, points_color)\n",
    "    plt.show()\n",
    "\n",
    "\n",
    "n_neighbors = 12\n",
    "n_components = 2\n",
    "\n",
    "isomap = manifold.Isomap(n_neighbors=n_neighbors, n_components=n_components, p=1)\n",
    "\n",
    "S_isomap = isomap.fit_transform(S_points)\n",
    "print(n_components)\n",
    "plot_2d(S_isomap, S_color, \"Isomap Embedding\")"
   ]
  },
  {
   "cell_type": "markdown",
   "metadata": {},
   "source": [
    "### 2D and 3D convolution"
   ]
  },
  {
   "cell_type": "code",
   "execution_count": null,
   "metadata": {},
   "outputs": [],
   "source": [
    "m = nn.Conv3d(16, 33, 3, stride=2)\n",
    "# non-square kernels and unequal stride and with padding\n",
    "m = nn.Conv3d(16, 33, (3, 5, 2), stride=(2, 1, 1), padding=(4, 2, 0))\n",
    "input = torch.randn(20, 16, 10, 50, 100)\n",
    "output = m(input)"
   ]
  }
 ],
 "metadata": {
  "kernelspec": {
   "display_name": "tvbenv",
   "language": "python",
   "name": "python3"
  },
  "language_info": {
   "codemirror_mode": {
    "name": "ipython",
    "version": 3
   },
   "file_extension": ".py",
   "mimetype": "text/x-python",
   "name": "python",
   "nbconvert_exporter": "python",
   "pygments_lexer": "ipython3",
   "version": "3.11.4"
  },
  "orig_nbformat": 4
 },
 "nbformat": 4,
 "nbformat_minor": 2
}
