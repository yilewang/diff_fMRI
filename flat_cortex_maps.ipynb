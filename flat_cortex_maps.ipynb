{
 "cells": [
  {
   "cell_type": "code",
   "execution_count": null,
   "metadata": {},
   "outputs": [],
   "source": [
    "import cortex\n",
    "import matplotlib.pyplot as plt\n",
    "import numpy as np\n",
    "np.random.seed(1234)"
   ]
  },
  {
   "cell_type": "code",
   "execution_count": null,
   "metadata": {},
   "outputs": [],
   "source": [
    "# Create a random pycortex Volume\n",
    "volume = cortex.Volume.random(subject='S1', xfmname='retinotopy')\n",
    "\n",
    "# Plot a flatmap with the data projected onto the surface\n",
    "# By default ROIs and their labels will be overlaid to the plot\n",
    "# Also a colorbar will be added\n",
    "_ = cortex.quickflat.make_figure(volume)\n",
    "plt.show()\n",
    "\n",
    "# The cortex.quickshow method is a pointer to quickflat.make_figure\n",
    "# and will plot exactly the same as the above plot\n",
    "_ = cortex.quickshow(volume)\n",
    "plt.show()\n",
    "\n",
    "# Highlight the curvature\n",
    "_ = cortex.quickflat.make_figure(volume, with_curvature=True)\n",
    "plt.show()\n",
    "\n",
    "# Remove ROI labels from the plot\n",
    "_ = cortex.quickflat.make_figure(volume,\n",
    "                                 with_curvature=True,\n",
    "                                 with_labels=False)\n",
    "plt.show()\n",
    "\n",
    "# Remove ROIs from the plot\n",
    "_ = cortex.quickflat.make_figure(volume,\n",
    "                                 with_curvature=True,\n",
    "                                 with_rois=False)\n",
    "plt.show()\n",
    "\n",
    "# Remove the colorbar from the plot\n",
    "cortex.quickflat.make_figure(volume,\n",
    "                             with_curvature=True,\n",
    "                             with_colorbar=False)\n",
    "\n",
    "plt.show()"
   ]
  }
 ],
 "metadata": {
  "language_info": {
   "name": "python"
  },
  "orig_nbformat": 4
 },
 "nbformat": 4,
 "nbformat_minor": 2
}
